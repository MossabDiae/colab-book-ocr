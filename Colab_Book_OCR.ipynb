{
  "nbformat": 4,
  "nbformat_minor": 0,
  "metadata": {
    "colab": {
      "name": "Colab Book OCR",
      "provenance": [],
      "collapsed_sections": []
    },
    "kernelspec": {
      "name": "python3",
      "display_name": "Python 3"
    },
    "language_info": {
      "name": "python"
    }
  },
  "cells": [
    {
      "cell_type": "markdown",
      "metadata": {
        "id": "xbJZK_C6Boul"
      },
      "source": [
        "![](https://raw.githubusercontent.com/mossaybo/colab-book-ocr/main/banner.png)"
      ]
    },
    {
      "cell_type": "code",
      "metadata": {
        "id": "kCETlh2ibkJt"
      },
      "source": [
        "#Setting up Variables #\n",
        "original_pdf = \"original.pdf\"\n",
        "output_pdf = \"result_ocr.pdf\"\n",
        "lang_code = \"ara\"   #<-- default to Arabic, other supported languages: https://tinyurl.com/tesslangcodes\n",
        "\n",
        "# optional , leave empty to ocr all the book, or set BOTH to ocr a specific part.\n",
        "first_page = \"\"\n",
        "last_page = \"\""
      ],
      "execution_count": null,
      "outputs": []
    },
    {
      "cell_type": "code",
      "metadata": {
        "id": "NlWLlU5Ti4bn"
      },
      "source": [
        "# Upload the Book to files (give it same name as original_pdf) or Download it directly: uncomment and change URL #\n",
        "# !wget \"http://www.almeshkat.net/books/archive/books/hewar12.pdf\" -O $original_pdf"
      ],
      "execution_count": null,
      "outputs": []
    },
    {
      "cell_type": "code",
      "metadata": {
        "id": "XHfP0gs3Xfn9"
      },
      "source": [
        "%%capture\n",
        "# Setting up tools #\n",
        "!apt install tesseract-ocr tesseract-ocr-$lang_code poppler-utils\n",
        "!pip install PyPDF2\n",
        "\n",
        "langs = !tesseract --list-langs\n",
        "class LanguageNotInstalled(Exception):\n",
        "  pass\n",
        "if lang_code not in langs:\n",
        "  raise LanguageNotInstalled(\"The Language\", lang_code, \"wasn't Installed correctly, please re-check lang_code and insure it's available\")\n",
        "\n",
        "from PyPDF2 import PdfFileMerger\n",
        "from IPython.utils import io\n",
        "from IPython.display import clear_output"
      ],
      "execution_count": null,
      "outputs": []
    },
    {
      "cell_type": "code",
      "metadata": {
        "id": "C-wQjoIecDmb"
      },
      "source": [
        "# original pdf ----> images #\n",
        "%cd /content/\n",
        "%mkdir temp\n",
        "%cd temp\n",
        "if first_page:\n",
        "  !pdfimages -f $first_page -l $last_page /content/$original_pdf page\n",
        "else:\n",
        "  !pdfimages /content/$original_pdf page"
      ],
      "execution_count": null,
      "outputs": []
    },
    {
      "cell_type": "code",
      "metadata": {
        "id": "alP3mLeJc6vI"
      },
      "source": [
        "# images -----> pdfs #\n",
        "pages_img = !ls -1\n",
        "def ocr_core(image, lang_code):\n",
        "  page_stem= image.rsplit('.')[0]\n",
        "  !tesseract $image -l $lang_code $page_stem pdf\n",
        "\n",
        "for image in pages_img:\n",
        "  num = int(''.join([i for i in image if i.isdigit()])) + 1\n",
        "  all = len(pages_img)\n",
        "\n",
        "  clear_output()\n",
        "  print(\"Working on Page :\", num, \"/\", all)\n",
        "  print(\"Progress: \", int(num / all * 100), \"%\")\n",
        "  \n",
        "  #supress tesseract verbose output\n",
        "  with io.capture_output() as captured:\n",
        "    ocr_core(image, lang_code)\n",
        "\n",
        "\n",
        "print(\"PDFs are ready , Ready for merge\")"
      ],
      "execution_count": null,
      "outputs": []
    },
    {
      "cell_type": "code",
      "metadata": {
        "id": "c8uOuSaCmOGp"
      },
      "source": [
        "# pdfs ---merge---> output.pdf\n",
        "pdfs = !ls -1 *.pdf\n",
        "merger = PdfFileMerger()\n",
        "\n",
        "for pdf in pdfs:\n",
        "  try:\n",
        "    merger.append(pdf)\n",
        "  except:\n",
        "    print(\"error in \"+ pdf + \", skipping it ...\")\n",
        "    continue\n",
        "\n",
        "merger.write(\"/content/\"+output_pdf)\n",
        "merger.close()\n",
        "print(\"\\nDONE, output file :\", output_pdf)"
      ],
      "execution_count": null,
      "outputs": []
    }
  ]
}